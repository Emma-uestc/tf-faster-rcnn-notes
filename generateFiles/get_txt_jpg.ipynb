{
 "cells": [
  {
   "cell_type": "code",
   "execution_count": 1,
   "metadata": {
    "collapsed": true
   },
   "outputs": [],
   "source": [
    "import pandas as pd\n",
    "import numpy as np\n",
    "import os\n",
    "import shutil"
   ]
  },
  {
   "cell_type": "code",
   "execution_count": 2,
   "metadata": {
    "collapsed": true
   },
   "outputs": [],
   "source": [
    "train_filenames, valid_filenames = [], []"
   ]
  },
  {
   "cell_type": "markdown",
   "metadata": {},
   "source": [
    "## JPEGImages"
   ]
  },
  {
   "cell_type": "code",
   "execution_count": 3,
   "metadata": {
    "collapsed": true
   },
   "outputs": [],
   "source": [
    "def copy_file(path, target_path):\n",
    "    shutil.copy(path, target_path)\n",
    "    \n",
    "def get_filename(file):\n",
    "    return file[:file.rfind('.')]\n"
   ]
  },
  {
   "cell_type": "code",
   "execution_count": 4,
   "metadata": {
    "collapsed": false
   },
   "outputs": [
    {
     "name": "stdout",
     "output_type": "stream",
     "text": [
      "Found 0 duplicate images.\n"
     ]
    }
   ],
   "source": [
    "TRAIN_DIR = 'F:\\\\tf-faster-rcnn\\\\cross_images\\\\train_1w'\n",
    "VALID_DIR = 'F:\\\\tf-faster-rcnn\\\\cross_images\\\\train_b'\n",
    "\n",
    "COPY_DIR = 'F:\\\\tf-faster-rcnn\\\\cross_images\\\\JPEGImages'\n",
    "if not os.path.exists(COPY_DIR):\n",
    "    os.mkdir(COPY_DIR)\n",
    "    \n",
    "# train\n",
    "for file in os.listdir(TRAIN_DIR):\n",
    "    path = os.path.join(TRAIN_DIR, file)\n",
    "    train_filenames.append(get_filename(file))\n",
    "    copy_file(path, os.path.join(COPY_DIR, file))\n",
    "if len(train_filenames) != 10602:\n",
    "    raise ValueError('The number of files in the training set is incorrect!')\n",
    "    \n",
    "# valid\n",
    "for file in os.listdir(VALID_DIR):\n",
    "    path = os.path.join(VALID_DIR, file)\n",
    "    valid_filenames.append(get_filename(file))\n",
    "    copy_file(path, os.path.join(COPY_DIR, file))\n",
    "if len(valid_filenames) != 1000:\n",
    "    raise ValueError('The number of files in the validation set is incorrect!')\n",
    "    \n",
    "print('Found {} duplicate images.'.format(11602 - len(os.listdir(COPY_DIR))))\n"
   ]
  },
  {
   "cell_type": "markdown",
   "metadata": {},
   "source": [
    "## ImageSet"
   ]
  },
  {
   "cell_type": "code",
   "execution_count": 9,
   "metadata": {
    "collapsed": true
   },
   "outputs": [],
   "source": [
    "OUTPUT_DIR = 'F:\\\\tf-faster-rcnn\\\\cross_images\\\\ImageSets'\n",
    "if not os.path.exists(OUTPUT_DIR):\n",
    "    os.mkdir(OUTPUT_DIR)\n",
    "TXT_DIR = os.path.join(OUTPUT_DIR, 'Main')\n",
    "if not os.path.exists(TXT_DIR):\n",
    "    os.mkdir(TXT_DIR)"
   ]
  },
  {
   "cell_type": "markdown",
   "metadata": {},
   "source": [
    "### train.txt"
   ]
  },
  {
   "cell_type": "code",
   "execution_count": 6,
   "metadata": {
    "collapsed": true
   },
   "outputs": [],
   "source": [
    "with open(os.path.join(TXT_DIR, 'train.txt'), 'w') as f:\n",
    "    for filename in train_filenames[:-1]:\n",
    "        f.write(filename + '\\n')\n",
    "    f.write(train_filenames[-1])"
   ]
  },
  {
   "cell_type": "markdown",
   "metadata": {},
   "source": [
    "### val.txt"
   ]
  },
  {
   "cell_type": "code",
   "execution_count": 7,
   "metadata": {
    "collapsed": true
   },
   "outputs": [],
   "source": [
    "with open(os.path.join(TXT_DIR,'val.txt'),'w') as f:\n",
    "    for filename in valid_filenames[:-1]:\n",
    "        f.write(filename + '\\n')\n",
    "    f.write(train_filenames[-1])"
   ]
  },
  {
   "cell_type": "markdown",
   "metadata": {},
   "source": [
    "### train_val.txt"
   ]
  },
  {
   "cell_type": "code",
   "execution_count": 8,
   "metadata": {
    "collapsed": true
   },
   "outputs": [],
   "source": [
    "with open(os.path.join(TXT_DIR, 'trainval.txt'), 'w') as f:\n",
    "    for filename in train_filenames:\n",
    "        f.write(filename + '\\n')\n",
    "    for filename in valid_filenames[:-1]:\n",
    "        f.write(filename + '\\n')\n",
    "    f.write(valid_filenames[-1])"
   ]
  },
  {
   "cell_type": "code",
   "execution_count": null,
   "metadata": {
    "collapsed": true
   },
   "outputs": [],
   "source": []
  }
 ],
 "metadata": {
  "kernelspec": {
   "display_name": "Python [conda root]",
   "language": "python",
   "name": "conda-root-py"
  },
  "language_info": {
   "codemirror_mode": {
    "name": "ipython",
    "version": 3
   },
   "file_extension": ".py",
   "mimetype": "text/x-python",
   "name": "python",
   "nbconvert_exporter": "python",
   "pygments_lexer": "ipython3",
   "version": "3.5.2"
  }
 },
 "nbformat": 4,
 "nbformat_minor": 1
}
